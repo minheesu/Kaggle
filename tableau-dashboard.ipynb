{
 "cells": [
  {
   "cell_type": "code",
   "execution_count": 1,
   "id": "2fd13e60",
   "metadata": {
    "execution": {
     "iopub.execute_input": "2023-11-14T20:19:03.646583Z",
     "iopub.status.busy": "2023-11-14T20:19:03.645583Z",
     "iopub.status.idle": "2023-11-14T20:19:03.661809Z",
     "shell.execute_reply": "2023-11-14T20:19:03.660876Z"
    },
    "papermill": {
     "duration": 0.023387,
     "end_time": "2023-11-14T20:19:03.664317",
     "exception": false,
     "start_time": "2023-11-14T20:19:03.640930",
     "status": "completed"
    },
    "tags": []
   },
   "outputs": [
    {
     "data": {
      "text/html": [
       "<div class='tableauPlaceholder' id='viz1699992757029' style='position: relative'>\n",
       "    <noscript>\n",
       "        <a href='#'>\n",
       "        <img alt='Dashboard 1 ' src='https:&#47;&#47;public.tableau.com&#47;static&#47;images&#47;Bo&#47;Book1_16999925325930&#47;Dashboard1&#47;1_rss.png' style='border: none' />\n",
       "        </a>\n",
       "    </noscript>\n",
       "    <object class='tableauViz'  style='display:none;'>\n",
       "        <param name='host_url' value='https%3A%2F%2Fpublic.tableau.com%2F' />\n",
       "        <param name='embed_code_version' value='3' />\n",
       "        <param name='site_root' value='' />\n",
       "        <param name='name' value='Book1_16999925325930&#47;Dashboard1' />\n",
       "    <param name='tabs' value='no' /><param name='toolbar' value='yes' />\n",
       "        <param name='static_image' value='https:&#47;&#47;public.tableau.com&#47;static&#47;images&#47;Bo&#47;Book1_16999925325930&#47;Dashboard1&#47;1.png' /> <param name='animate_transition' value='yes' />\n",
       "        <param name='display_static_image' value='yes' />\n",
       "        <param name='display_spinner' value='yes' />\n",
       "        <param name='display_overlay' value='yes' />\n",
       "        <param name='display_count' value='yes' />\n",
       "        <param name='language' value='en-US' />\n",
       "        <param name='filter' value='publish=yes' />\n",
       "    </object></div>\n",
       "<script type='text/javascript'>\n",
       "    var divElement = document.getElementById('viz1699992757029');\n",
       "    var vizElement = divElement.getElementsByTagName('object')[0];\n",
       "    if ( divElement.offsetWidth > 800 ) { vizElement.style.width='100%';vizElement.style.height=(divElement.offsetWidth*0.75)+'px';} else if ( divElement.offsetWidth > 500 ) { vizElement.style.width='100%';vizElement.style.height=(divElement.offsetWidth*0.75)+'px';} else { vizElement.style.width='100%';vizElement.style.height='1477px';}                     var scriptElement = document.createElement('script');                    scriptElement.src = 'https://public.tableau.com/javascripts/api/viz_v1.js';                    vizElement.parentNode.insertBefore(scriptElement, vizElement);                \n",
       "</script>\n"
      ],
      "text/plain": [
       "<IPython.core.display.HTML object>"
      ]
     },
     "metadata": {},
     "output_type": "display_data"
    }
   ],
   "source": [
    "%%html\n",
    "<div class='tableauPlaceholder' id='viz1699992757029' style='position: relative'>\n",
    "    <noscript>\n",
    "        <a href='#'>\n",
    "        <img alt='Dashboard 1 ' src='https:&#47;&#47;public.tableau.com&#47;static&#47;images&#47;Bo&#47;Book1_16999925325930&#47;Dashboard1&#47;1_rss.png' style='border: none' />\n",
    "        </a>\n",
    "    </noscript>\n",
    "    <object class='tableauViz'  style='display:none;'>\n",
    "        <param name='host_url' value='https%3A%2F%2Fpublic.tableau.com%2F' />\n",
    "        <param name='embed_code_version' value='3' />\n",
    "        <param name='site_root' value='' />\n",
    "        <param name='name' value='Book1_16999925325930&#47;Dashboard1' />\n",
    "    <param name='tabs' value='no' /><param name='toolbar' value='yes' />\n",
    "        <param name='static_image' value='https:&#47;&#47;public.tableau.com&#47;static&#47;images&#47;Bo&#47;Book1_16999925325930&#47;Dashboard1&#47;1.png' /> <param name='animate_transition' value='yes' />\n",
    "        <param name='display_static_image' value='yes' />\n",
    "        <param name='display_spinner' value='yes' />\n",
    "        <param name='display_overlay' value='yes' />\n",
    "        <param name='display_count' value='yes' />\n",
    "        <param name='language' value='en-US' />\n",
    "        <param name='filter' value='publish=yes' />\n",
    "    </object></div>\n",
    "<script type='text/javascript'>\n",
    "    var divElement = document.getElementById('viz1699992757029');\n",
    "    var vizElement = divElement.getElementsByTagName('object')[0];\n",
    "    if ( divElement.offsetWidth > 800 ) { vizElement.style.width='100%';vizElement.style.height=(divElement.offsetWidth*0.75)+'px';} else if ( divElement.offsetWidth > 500 ) { vizElement.style.width='100%';vizElement.style.height=(divElement.offsetWidth*0.75)+'px';} else { vizElement.style.width='100%';vizElement.style.height='1477px';}                     var scriptElement = document.createElement('script');                    scriptElement.src = 'https://public.tableau.com/javascripts/api/viz_v1.js';                    vizElement.parentNode.insertBefore(scriptElement, vizElement);                \n",
    "</script>"
   ]
  },
  {
   "cell_type": "code",
   "execution_count": null,
   "id": "9201142e",
   "metadata": {
    "papermill": {
     "duration": 0.002216,
     "end_time": "2023-11-14T20:19:03.669313",
     "exception": false,
     "start_time": "2023-11-14T20:19:03.667097",
     "status": "completed"
    },
    "tags": []
   },
   "outputs": [],
   "source": []
  }
 ],
 "metadata": {
  "kernelspec": {
   "display_name": "Python 3",
   "language": "python",
   "name": "python3"
  },
  "language_info": {
   "codemirror_mode": {
    "name": "ipython",
    "version": 3
   },
   "file_extension": ".py",
   "mimetype": "text/x-python",
   "name": "python",
   "nbconvert_exporter": "python",
   "pygments_lexer": "ipython3",
   "version": "3.10.12"
  },
  "papermill": {
   "default_parameters": {},
   "duration": 4.458762,
   "end_time": "2023-11-14T20:19:04.093096",
   "environment_variables": {},
   "exception": null,
   "input_path": "__notebook__.ipynb",
   "output_path": "__notebook__.ipynb",
   "parameters": {},
   "start_time": "2023-11-14T20:18:59.634334",
   "version": "2.4.0"
  }
 },
 "nbformat": 4,
 "nbformat_minor": 5
}
